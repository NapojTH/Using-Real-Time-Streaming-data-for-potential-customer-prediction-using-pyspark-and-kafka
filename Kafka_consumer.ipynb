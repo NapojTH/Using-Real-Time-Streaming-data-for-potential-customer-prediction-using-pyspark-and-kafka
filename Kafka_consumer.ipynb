{
 "cells": [
  {
   "cell_type": "markdown",
   "metadata": {},
   "source": [
    "## 3. Consumer"
   ]
  },
  {
   "cell_type": "markdown",
   "metadata": {},
   "source": [
    "This is the last part for the assignment, it will start by installing the library plotly using `!pip install plotly`. This is done in order to be used for creating a map as below:\n"
   ]
  },
  {
   "cell_type": "code",
   "execution_count": null,
   "metadata": {},
   "outputs": [],
   "source": [
    "#Uncomment this to install the package for making a chloropleth map\n",
    "#!pip install plotly"
   ]
  },
  {
   "cell_type": "markdown",
   "metadata": {},
   "source": [
    "Once we have install our map plotting library, we will install both `urllib` and `json` to download geojson from a website that contain a map information for our data streaming (in this case it is a State from India) so we use `urlopen` and assign it as `counties`. Next, we will apply the loop for making a State store inside properties of file `ST_NM` to be uppercase which match our streaming dataframe from straming side as the following:"
   ]
  },
  {
   "cell_type": "code",
   "execution_count": 1,
   "metadata": {},
   "outputs": [],
   "source": [
    "from urllib.request import urlopen\n",
    "import json\n",
    "\n",
    "#Download geojson of India state from website (Malineni,2019)\n",
    "with urlopen(\"https://gist.githubusercontent.com/jbrobst/56c13bbbf9d97d187fea01ca62ea5112/raw/e388c4cae20aa53cb5090210a42ebb9b765c0a36/india_states.geojson\") as response:\n",
    "    counties = json.load(response)\n",
    "\n",
    "#Apply loop to make the State name in the geojson in an uppercase\n",
    "for i in range(len(counties[\"features\"])-1):\n",
    "    counties['features'][i][\"properties\"]['ST_NM']=counties['features'][i][\"properties\"]['ST_NM'].upper()"
   ]
  },
  {
   "cell_type": "markdown",
   "metadata": {},
   "source": [
    "After that we will create a map based on the data we receive from kafka consumer and geojson based on the code below:"
   ]
  },
  {
   "cell_type": "code",
   "execution_count": 17,
   "metadata": {
    "scrolled": false
   },
   "outputs": [
    {
     "name": "stdout",
     "output_type": "stream",
     "text": [
      "ConsumerRecord(topic='Top_up_count_state', partition=0, offset=7, timestamp=1666062587343, timestamp_type=0, key=b'2022-10-18 03:07:30', value=b'[{\"State\":\"WEST BENGAL\",\"count\":29}, {\"State\":\"ORISSA\",\"count\":3}]', headers=[], checksum=1950726576, serialized_key_size=19, serialized_value_size=66, serialized_header_size=-1)\n",
      "Value of 'locations' is not the name of a column in 'data_frame'. Expected one of [0, 1] but received: State\n"
     ]
    }
   ],
   "source": [
    "from time import sleep\n",
    "from kafka import KafkaConsumer\n",
    "import datetime as dt\n",
    "import matplotlib\n",
    "import matplotlib.pyplot as plt\n",
    "from json import loads\n",
    "import pandas as pd\n",
    "import numpy as np\n",
    "import plotly.express as px\n",
    "import plotly\n",
    "from IPython.display import clear_output\n",
    "\n",
    "\n",
    "# this line is needed for the inline display of graphs in Jupyter Notebook\n",
    "%matplotlib notebook\n",
    "\n",
    "#Our topic we create from streaming side\n",
    "topic = 'Top_up_count_state'\n",
    "\n",
    "#Function derived from week9-11 tutorial consumer files\n",
    "def connect_kafka_consumer():\n",
    "    \"\"\"\n",
    "    Function setting the consumer by apply our topic create from streaming side\n",
    "    auto_offset_reset is use to make a plot based on the information that store before \n",
    "    kafka consumer send data, while consumer timeout is set to stop when data is come to late \n",
    "    we have to re run the code again\n",
    "    \"\"\"\n",
    "    _consumer = None\n",
    "    try:\n",
    "         _consumer = KafkaConsumer(topic,\n",
    "                                   auto_offset_reset='earliest',\n",
    "                                   consumer_timeout_ms=1000000, # stop iteration if no message after 10 sec # \n",
    "                                   bootstrap_servers=['localhost:9092'],\n",
    "                                   api_version=(0, 10))\n",
    "    except Exception as ex:\n",
    "        print('Exception while connecting Kafka')\n",
    "        print(str(ex))\n",
    "    finally:\n",
    "        return _consumer\n",
    "    \n",
    "\n",
    "def consume_messages(consumer):\n",
    "    \"\"\"\n",
    "    Function for receiving the data from consumer and turn it into a map plot\n",
    "    by using a combining of for loop on consumer and decode the message value and \n",
    "    change the json format  we receive to dictionary and store it to dataframe\n",
    "    and using plotly to build the map with count of top-up by state\n",
    "    \"\"\"\n",
    "    try:\n",
    "        for message in consumer:\n",
    "            data = message.value.decode('utf-8')\n",
    "            data = data.replace('[','')\n",
    "            data = data.replace(']','')\n",
    "            data = eval(data)\n",
    "            df = pd.DataFrame([data])\n",
    "            print(message)\n",
    "            \n",
    "            #Plotly plot based on the plotly website and stackoverflow\n",
    "            fig = px.choropleth(df, geojson=counties, locations='State', color='count',\n",
    "                                featureidkey='properties.ST_NM',color_continuous_scale=\"twilight\",\n",
    "                                range_color=(0, 50),scope=\"asia\",labels={'count':'Top-up rate'})\n",
    "            fig.update_geos(fitbounds=\"locations\")\n",
    "            fig.show()\n",
    "            clear_output(wait=True)\n",
    "            sleep(20) #Show image for 20 seconds\n",
    "        \n",
    "\n",
    "    except Exception as ex:\n",
    "        print(str(ex))\n",
    "    \n",
    "# main\n",
    "if __name__ == '__main__':\n",
    "\n",
    "    consumer = connect_kafka_consumer()  \n",
    "    consume_messages(consumer)   "
   ]
  },
  {
   "cell_type": "markdown",
   "metadata": {},
   "source": [
    "Once we run the code, we need to interupt it if we want to stop it.\n",
    "The map above that I have provide is appending. In the future, if it is possible I want to make a changable map that change in a live stream form."
   ]
  },
  {
   "cell_type": "markdown",
   "metadata": {},
   "source": [
    "## References"
   ]
  },
  {
   "cell_type": "markdown",
   "metadata": {},
   "source": [
    "- $\\textit{Choropleth Maps in Python}$. (nd.). https://plotly.com/python/choropleth-maps/\n",
    "- Jupyter Notebooks:FIT 5202 Data Processing in Big Data (2022). $\\textit{Week 9 consumer notebook}$.\n",
    "https://lms.monash.edu/course/view.php?id=140960&section=14\n",
    "- Jupyter Notebooks:FIT 5202 Data Processing in Big Data (2022). $\\textit{Week 10 consumer notebook }$. https://lms.monash.edu/course/view.php?id=140960&section=16\n",
    "- Jupyter Notebooks:FIT 5202 Data Processing in Big Data (2022). $\\textit{Week 11 consumer notebook}$.\n",
    "https://lms.monash.edu/course/view.php?id=140960&section=17\n",
    "- Malineni N.K. (2020, March 29). $\\textit{Is there any way to draw INDIA Map in plotly?}$. https://stackoverflow.com/questions/60910962/is-there-any-way-to-draw-india-map-in-plotly"
   ]
  },
  {
   "cell_type": "code",
   "execution_count": null,
   "metadata": {},
   "outputs": [],
   "source": []
  }
 ],
 "metadata": {
  "kernelspec": {
   "display_name": "Python 3",
   "language": "python",
   "name": "python3"
  },
  "language_info": {
   "codemirror_mode": {
    "name": "ipython",
    "version": 3
   },
   "file_extension": ".py",
   "mimetype": "text/x-python",
   "name": "python",
   "nbconvert_exporter": "python",
   "pygments_lexer": "ipython3",
   "version": "3.8.2"
  }
 },
 "nbformat": 4,
 "nbformat_minor": 4
}
